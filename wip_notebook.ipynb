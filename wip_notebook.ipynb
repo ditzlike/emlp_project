{
 "cells": [
  {
   "cell_type": "code",
   "execution_count": 96,
   "id": "66cdaecf",
   "metadata": {},
   "outputs": [],
   "source": [
    "import numpy as np \n",
    "import pandas as pd\n",
    "import matplotlib.pyplot as plt\n",
    "np.random.seed(1)"
   ]
  },
  {
   "cell_type": "markdown",
   "id": "d645252e",
   "metadata": {},
   "source": [
    "Read in the data from the csv's"
   ]
  },
  {
   "cell_type": "code",
   "execution_count": 48,
   "id": "1b3e9a48",
   "metadata": {},
   "outputs": [],
   "source": [
    "# Begrenzt die eingelesenen Daten aif 500 Zeilen (Geschwindigkeit)\n",
    "train_data = pd.read_csv('fraud/fraudTrain.csv', delimiter=',')\n",
    "train_data.dataframeName = 'fraudTrain.csv'\n",
    "test_data = pd.read_csv('fraud/fraudTest.csv', delimiter=',')\n",
    "test_data.dataframeName = 'fraudTest.csv'"
   ]
  },
  {
   "cell_type": "markdown",
   "id": "5ef0a7ec",
   "metadata": {},
   "source": [
    "To get to know the data we're dealing with, we will first use the head function to look at its columns and its values. It consists of various columns specifying the transaction (date, credit card number, transaction number, etc.) and columns for the characteristical values of the merchant, such as name, job, gender and detailled geographical information. A binary value determines if the transaction was a fraud."
   ]
  },
  {
   "cell_type": "code",
   "execution_count": 91,
   "id": "835ad853",
   "metadata": {
    "scrolled": true
   },
   "outputs": [
    {
     "data": {
      "text/html": [
       "<div>\n",
       "<style scoped>\n",
       "    .dataframe tbody tr th:only-of-type {\n",
       "        vertical-align: middle;\n",
       "    }\n",
       "\n",
       "    .dataframe tbody tr th {\n",
       "        vertical-align: top;\n",
       "    }\n",
       "\n",
       "    .dataframe thead th {\n",
       "        text-align: right;\n",
       "    }\n",
       "</style>\n",
       "<table border=\"1\" class=\"dataframe\">\n",
       "  <thead>\n",
       "    <tr style=\"text-align: right;\">\n",
       "      <th></th>\n",
       "      <th>Unnamed: 0</th>\n",
       "      <th>trans_date_trans_time</th>\n",
       "      <th>cc_num</th>\n",
       "      <th>merchant</th>\n",
       "      <th>category</th>\n",
       "      <th>amt</th>\n",
       "      <th>first</th>\n",
       "      <th>last</th>\n",
       "      <th>gender</th>\n",
       "      <th>street</th>\n",
       "      <th>...</th>\n",
       "      <th>dob</th>\n",
       "      <th>trans_num</th>\n",
       "      <th>unix_time</th>\n",
       "      <th>merch_lat</th>\n",
       "      <th>merch_long</th>\n",
       "      <th>is_fraud</th>\n",
       "      <th>week</th>\n",
       "      <th>hour</th>\n",
       "      <th>month</th>\n",
       "      <th>day</th>\n",
       "    </tr>\n",
       "  </thead>\n",
       "  <tbody>\n",
       "    <tr>\n",
       "      <th>0</th>\n",
       "      <td>0</td>\n",
       "      <td>2019-01-01 00:00:18</td>\n",
       "      <td>2703186189652095</td>\n",
       "      <td>fraud_Rippin, Kub and Mann</td>\n",
       "      <td>misc_net</td>\n",
       "      <td>4.97</td>\n",
       "      <td>Jennifer</td>\n",
       "      <td>Banks</td>\n",
       "      <td>F</td>\n",
       "      <td>561 Perry Cove</td>\n",
       "      <td>...</td>\n",
       "      <td>1988-03-09</td>\n",
       "      <td>0b242abb623afc578575680df30655b9</td>\n",
       "      <td>1325376018</td>\n",
       "      <td>36.011293</td>\n",
       "      <td>-82.048315</td>\n",
       "      <td>0</td>\n",
       "      <td>1</td>\n",
       "      <td>0</td>\n",
       "      <td>1</td>\n",
       "      <td>Tuesday</td>\n",
       "    </tr>\n",
       "    <tr>\n",
       "      <th>1</th>\n",
       "      <td>1</td>\n",
       "      <td>2019-01-01 00:00:44</td>\n",
       "      <td>630423337322</td>\n",
       "      <td>fraud_Heller, Gutmann and Zieme</td>\n",
       "      <td>grocery_pos</td>\n",
       "      <td>107.23</td>\n",
       "      <td>Stephanie</td>\n",
       "      <td>Gill</td>\n",
       "      <td>F</td>\n",
       "      <td>43039 Riley Greens Suite 393</td>\n",
       "      <td>...</td>\n",
       "      <td>1978-06-21</td>\n",
       "      <td>1f76529f8574734946361c461b024d99</td>\n",
       "      <td>1325376044</td>\n",
       "      <td>49.159047</td>\n",
       "      <td>-118.186462</td>\n",
       "      <td>0</td>\n",
       "      <td>1</td>\n",
       "      <td>0</td>\n",
       "      <td>1</td>\n",
       "      <td>Tuesday</td>\n",
       "    </tr>\n",
       "    <tr>\n",
       "      <th>2</th>\n",
       "      <td>2</td>\n",
       "      <td>2019-01-01 00:00:51</td>\n",
       "      <td>38859492057661</td>\n",
       "      <td>fraud_Lind-Buckridge</td>\n",
       "      <td>entertainment</td>\n",
       "      <td>220.11</td>\n",
       "      <td>Edward</td>\n",
       "      <td>Sanchez</td>\n",
       "      <td>M</td>\n",
       "      <td>594 White Dale Suite 530</td>\n",
       "      <td>...</td>\n",
       "      <td>1962-01-19</td>\n",
       "      <td>a1a22d70485983eac12b5b88dad1cf95</td>\n",
       "      <td>1325376051</td>\n",
       "      <td>43.150704</td>\n",
       "      <td>-112.154481</td>\n",
       "      <td>0</td>\n",
       "      <td>1</td>\n",
       "      <td>0</td>\n",
       "      <td>1</td>\n",
       "      <td>Tuesday</td>\n",
       "    </tr>\n",
       "    <tr>\n",
       "      <th>3</th>\n",
       "      <td>3</td>\n",
       "      <td>2019-01-01 00:01:16</td>\n",
       "      <td>3534093764340240</td>\n",
       "      <td>fraud_Kutch, Hermiston and Farrell</td>\n",
       "      <td>gas_transport</td>\n",
       "      <td>45.00</td>\n",
       "      <td>Jeremy</td>\n",
       "      <td>White</td>\n",
       "      <td>M</td>\n",
       "      <td>9443 Cynthia Court Apt. 038</td>\n",
       "      <td>...</td>\n",
       "      <td>1967-01-12</td>\n",
       "      <td>6b849c168bdad6f867558c3793159a81</td>\n",
       "      <td>1325376076</td>\n",
       "      <td>47.034331</td>\n",
       "      <td>-112.561071</td>\n",
       "      <td>0</td>\n",
       "      <td>1</td>\n",
       "      <td>0</td>\n",
       "      <td>1</td>\n",
       "      <td>Tuesday</td>\n",
       "    </tr>\n",
       "    <tr>\n",
       "      <th>4</th>\n",
       "      <td>4</td>\n",
       "      <td>2019-01-01 00:03:06</td>\n",
       "      <td>375534208663984</td>\n",
       "      <td>fraud_Keeling-Crist</td>\n",
       "      <td>misc_pos</td>\n",
       "      <td>41.96</td>\n",
       "      <td>Tyler</td>\n",
       "      <td>Garcia</td>\n",
       "      <td>M</td>\n",
       "      <td>408 Bradley Rest</td>\n",
       "      <td>...</td>\n",
       "      <td>1986-03-28</td>\n",
       "      <td>a41d7549acf90789359a9aa5346dcb46</td>\n",
       "      <td>1325376186</td>\n",
       "      <td>38.674999</td>\n",
       "      <td>-78.632459</td>\n",
       "      <td>0</td>\n",
       "      <td>1</td>\n",
       "      <td>0</td>\n",
       "      <td>1</td>\n",
       "      <td>Tuesday</td>\n",
       "    </tr>\n",
       "  </tbody>\n",
       "</table>\n",
       "<p>5 rows × 27 columns</p>\n",
       "</div>"
      ],
      "text/plain": [
       "   Unnamed: 0 trans_date_trans_time            cc_num  \\\n",
       "0           0   2019-01-01 00:00:18  2703186189652095   \n",
       "1           1   2019-01-01 00:00:44      630423337322   \n",
       "2           2   2019-01-01 00:00:51    38859492057661   \n",
       "3           3   2019-01-01 00:01:16  3534093764340240   \n",
       "4           4   2019-01-01 00:03:06   375534208663984   \n",
       "\n",
       "                             merchant       category     amt      first  \\\n",
       "0          fraud_Rippin, Kub and Mann       misc_net    4.97   Jennifer   \n",
       "1     fraud_Heller, Gutmann and Zieme    grocery_pos  107.23  Stephanie   \n",
       "2                fraud_Lind-Buckridge  entertainment  220.11     Edward   \n",
       "3  fraud_Kutch, Hermiston and Farrell  gas_transport   45.00     Jeremy   \n",
       "4                 fraud_Keeling-Crist       misc_pos   41.96      Tyler   \n",
       "\n",
       "      last gender                        street  ...         dob  \\\n",
       "0    Banks      F                561 Perry Cove  ...  1988-03-09   \n",
       "1     Gill      F  43039 Riley Greens Suite 393  ...  1978-06-21   \n",
       "2  Sanchez      M      594 White Dale Suite 530  ...  1962-01-19   \n",
       "3    White      M   9443 Cynthia Court Apt. 038  ...  1967-01-12   \n",
       "4   Garcia      M              408 Bradley Rest  ...  1986-03-28   \n",
       "\n",
       "                          trans_num   unix_time  merch_lat  merch_long  \\\n",
       "0  0b242abb623afc578575680df30655b9  1325376018  36.011293  -82.048315   \n",
       "1  1f76529f8574734946361c461b024d99  1325376044  49.159047 -118.186462   \n",
       "2  a1a22d70485983eac12b5b88dad1cf95  1325376051  43.150704 -112.154481   \n",
       "3  6b849c168bdad6f867558c3793159a81  1325376076  47.034331 -112.561071   \n",
       "4  a41d7549acf90789359a9aa5346dcb46  1325376186  38.674999  -78.632459   \n",
       "\n",
       "   is_fraud week hour month      day  \n",
       "0         0    1    0     1  Tuesday  \n",
       "1         0    1    0     1  Tuesday  \n",
       "2         0    1    0     1  Tuesday  \n",
       "3         0    1    0     1  Tuesday  \n",
       "4         0    1    0     1  Tuesday  \n",
       "\n",
       "[5 rows x 27 columns]"
      ]
     },
     "execution_count": 91,
     "metadata": {},
     "output_type": "execute_result"
    }
   ],
   "source": [
    "train_data.head()"
   ]
  },
  {
   "cell_type": "markdown",
   "id": "53bb25bd",
   "metadata": {},
   "source": [
    "We first need to explore the data to determine which method of classification to use. We will conduct this exploration on the entirety of our data, therefore concatenating our two dataframes. The info() function gives us information on the used data types."
   ]
  },
  {
   "cell_type": "code",
   "execution_count": 50,
   "id": "dc03cc19",
   "metadata": {},
   "outputs": [
    {
     "name": "stdout",
     "output_type": "stream",
     "text": [
      "<class 'pandas.core.frame.DataFrame'>\n",
      "Int64Index: 1852394 entries, 0 to 555718\n",
      "Data columns (total 23 columns):\n",
      " #   Column                 Dtype  \n",
      "---  ------                 -----  \n",
      " 0   Unnamed: 0             int64  \n",
      " 1   trans_date_trans_time  object \n",
      " 2   cc_num                 int64  \n",
      " 3   merchant               object \n",
      " 4   category               object \n",
      " 5   amt                    float64\n",
      " 6   first                  object \n",
      " 7   last                   object \n",
      " 8   gender                 object \n",
      " 9   street                 object \n",
      " 10  city                   object \n",
      " 11  state                  object \n",
      " 12  zip                    int64  \n",
      " 13  lat                    float64\n",
      " 14  long                   float64\n",
      " 15  city_pop               int64  \n",
      " 16  job                    object \n",
      " 17  dob                    object \n",
      " 18  trans_num              object \n",
      " 19  unix_time              int64  \n",
      " 20  merch_lat              float64\n",
      " 21  merch_long             float64\n",
      " 22  is_fraud               int64  \n",
      "dtypes: float64(5), int64(6), object(12)\n",
      "memory usage: 339.2+ MB\n"
     ]
    }
   ],
   "source": [
    "combined_df = pd.concat([train_data, test_data])\n",
    "combined_df.info()"
   ]
  },
  {
   "cell_type": "markdown",
   "id": "dd0b3797",
   "metadata": {},
   "source": [
    "Checking for null values reveals that we are working with sanitized data and no missing values anywhere."
   ]
  },
  {
   "cell_type": "code",
   "execution_count": 51,
   "id": "7c395b01",
   "metadata": {},
   "outputs": [
    {
     "data": {
      "text/plain": [
       "Unnamed: 0               0\n",
       "trans_date_trans_time    0\n",
       "cc_num                   0\n",
       "merchant                 0\n",
       "category                 0\n",
       "amt                      0\n",
       "first                    0\n",
       "last                     0\n",
       "gender                   0\n",
       "street                   0\n",
       "city                     0\n",
       "state                    0\n",
       "zip                      0\n",
       "lat                      0\n",
       "long                     0\n",
       "city_pop                 0\n",
       "job                      0\n",
       "dob                      0\n",
       "trans_num                0\n",
       "unix_time                0\n",
       "merch_lat                0\n",
       "merch_long               0\n",
       "is_fraud                 0\n",
       "dtype: int64"
      ]
     },
     "execution_count": 51,
     "metadata": {},
     "output_type": "execute_result"
    }
   ],
   "source": [
    "combined_df.isnull().sum()"
   ]
  },
  {
   "cell_type": "markdown",
   "id": "68aa1a63",
   "metadata": {},
   "source": [
    "The shape command shows that we have 1852394 rows and 23 columns in both of our data sets combined."
   ]
  },
  {
   "cell_type": "code",
   "execution_count": 55,
   "id": "406d11f8",
   "metadata": {},
   "outputs": [
    {
     "data": {
      "text/plain": [
       "(1852394, 25)"
      ]
     },
     "execution_count": 55,
     "metadata": {},
     "output_type": "execute_result"
    }
   ],
   "source": [
    "combined_df.shape"
   ]
  },
  {
   "cell_type": "markdown",
   "id": "9156ee7b",
   "metadata": {},
   "source": [
    "We will first start by wrangling the data to normalise information such as dates. We can also expand the data by extracting additional time information such as week and hour."
   ]
  },
  {
   "cell_type": "code",
   "execution_count": 90,
   "id": "d7f11eb5",
   "metadata": {},
   "outputs": [],
   "source": [
    "train_data['trans_date_trans_time'] = pd.to_datetime(train_data['trans_date_trans_time'])\n",
    "test_data['trans_date_trans_time'] = pd.to_datetime(test_data['trans_date_trans_time'])\n",
    "\n",
    "train_data['month'] = train_data['trans_date_trans_time'].dt.isocalendar().week\n",
    "test_data['month'] = test_data['trans_date_trans_time'].dt.isocalendar().week\n",
    "\n",
    "train_data['week'] = train_data['trans_date_trans_time'].dt.isocalendar().week\n",
    "test_data['week'] = test_data['trans_date_trans_time'].dt.isocalendar().week\n",
    "\n",
    "train_data['day'] = train_data['trans_date_trans_time'].dt.day_name()\n",
    "test_data['day'] = test_data['trans_date_trans_time'].dt.day_name()\n",
    "\n",
    "train_data['hour'] = train_data['trans_date_trans_time'].dt.hour\n",
    "test_data['hour'] = test_data['trans_date_trans_time'].dt.hour\n",
    "\n",
    "combined_df = pd.concat([train_data, test_data])"
   ]
  },
  {
   "cell_type": "markdown",
   "id": "df8a0faf",
   "metadata": {},
   "source": [
    "By determining the percentage of fraud transactions, our dependent variable for classification, we can see that only 0,5% of all transactions are frauds in all of our data sets. This is a highly imbalanced dependent variable which can result in an inaccuracy of our training algorithm. A classification with an imbalanced dependent variable will favour the majority class, in our case \"no fraud\", since it always strives to achieve the best possible accuracy."
   ]
  },
  {
   "cell_type": "code",
   "execution_count": 57,
   "id": "58ccda58",
   "metadata": {},
   "outputs": [
    {
     "data": {
      "text/plain": [
       "0    99.478999\n",
       "1     0.521001\n",
       "Name: is_fraud, dtype: float64"
      ]
     },
     "execution_count": 57,
     "metadata": {},
     "output_type": "execute_result"
    }
   ],
   "source": [
    "combined_df['is_fraud'].value_counts(normalize=True).mul(100)"
   ]
  },
  {
   "cell_type": "markdown",
   "id": "3b301c8a",
   "metadata": {},
   "source": [
    "The same command for our train data reveals that our it also has a highly imbalanced dependent variable and therefore requires balancing. We will use oversampling, since it does not dispose of any potentially useful data as undersampling does by discarding data of the majority dependent variable."
   ]
  },
  {
   "cell_type": "code",
   "execution_count": 61,
   "id": "35690d76",
   "metadata": {},
   "outputs": [
    {
     "data": {
      "text/plain": [
       "0    99.421135\n",
       "1     0.578865\n",
       "Name: is_fraud, dtype: float64"
      ]
     },
     "execution_count": 61,
     "metadata": {},
     "output_type": "execute_result"
    }
   ],
   "source": [
    "train_data['is_fraud'].value_counts(normalize=True).mul(100)"
   ]
  },
  {
   "cell_type": "markdown",
   "id": "58a27d1c",
   "metadata": {},
   "source": [
    "In order to characterise fraud, we will filter for all occurences of fraud and plot the data based on various variables. The following plots showcasing frauds alone wield these results:\n",
    "- Slightly more frauds were done by women than by men, though it is almost even\n",
    "- grocery_pos and shopping_net are the highest fraud categories with almost twice as much as the next one, misc_net\n",
    "- Most fraud takes place in very late hours leading up to midnight and the hours directly after"
   ]
  },
  {
   "cell_type": "code",
   "execution_count": 199,
   "id": "2affb0a8",
   "metadata": {
    "scrolled": false
   },
   "outputs": [
    {
     "data": {
      "image/png": "[encoded data removed]",
      "text/plain": [
       "<Figure size 1224x360 with 3 Axes>"
      ]
     },
     "metadata": {
      "needs_background": "light"
     },
     "output_type": "display_data"
    }
   ],
   "source": [
    "filtered_df = combined_df[combined_df.is_fraud == 1]\n",
    "filtered_df = filtered_df[['gender', 'category', 'merchant', 'city', 'state', 'job', 'week', 'hour', 'month', 'trans_date_trans_time']]\n",
    "#filtered_df.groupby('category').count().plot(kind = 'bar', legend = False)\n",
    "plt.figure(figsize = (17,5))\n",
    "plt.subplot(131)\n",
    "filtered_df['gender'].value_counts().plot(kind = 'bar')\n",
    "plt.subplot(132)\n",
    "filtered_df['category'].value_counts().plot(kind = 'bar')\n",
    "plt.subplot(133)\n",
    "filtered_df['hour'].value_counts().sort_index().plot(kind = 'bar')\n",
    "#filtered_df['state'].value_counts().plot(kind = 'bar')\n",
    "plt.show()"
   ]
  },
  {
   "cell_type": "markdown",
   "id": "51cf2306",
   "metadata": {},
   "source": [
    "This is interesting, but we need to take a closer look at the data in total to further analyse these trends. The following code analyses fraud in relation to non-fraud cases and gender. Looking at the fraud cases alone can be misleading, which the following code highlights.\n",
    "\n",
    "Although women have slightly more fraud cases of around 1.5%, women also have 10% more transactions (which are roughly also the non-frauds transactions, since the fraud/non-fraud ratio is so slim) in total, meaning women are buying more. With a higher transaction volume of around 10%, but an almost even fraud-ratio between men and women, we can see that it is actually men who are more likely to commit fraud by only around 0.1% when put into relation.  \n"
   ]
  },
  {
   "cell_type": "code",
   "execution_count": 186,
   "id": "74730e14",
   "metadata": {},
   "outputs": [
    {
     "name": "stdout",
     "output_type": "stream",
     "text": [
      "Total transaction ratio: Women (54.78%), Men (45.22%)\n",
      "Total non-fraud transaction ratio: Women (54.80%), Men (45.20%)\n",
      "Total fraud transaction ratio: Women (50.76%), Men (49.24%)\n",
      "Women fraud transaction ratio: Frauds (0.48%)\n",
      "Men fraud transaction ratio: Frauds (0.57%)\n"
     ]
    }
   ],
   "source": [
    "counts_df = combined_df[['gender', 'is_fraud']].value_counts()\n",
    "women_frauds = counts_df[('F', 1)]\n",
    "men_frauds = counts_df[('M', 1)]\n",
    "\n",
    "women_non_frauds = counts_df[('F', 0)]\n",
    "men_non_frauds = counts_df[('M', 0)]\n",
    "total_frauds = women_frauds + men_frauds\n",
    "total_non_frauds = women_non_frauds + men_non_frauds\n",
    "total_women = women_frauds + women_non_frauds\n",
    "total_men = men_frauds + men_non_frauds\n",
    "print('Total transaction ratio: Women (%.2f%%), Men (%.2f%%)'\n",
    "      % (total_women * 100 / (total_frauds + total_non_frauds), total_men * 100 / (total_frauds + total_non_frauds)))\n",
    "print('Total non-fraud transaction ratio: Women (%.2f%%), Men (%.2f%%)'\n",
    "      % (women_non_frauds * 100 / total_non_frauds, men_non_frauds * 100 / total_non_frauds))\n",
    "print('Total fraud transaction ratio: Women (%.2f%%), Men (%.2f%%)'\n",
    "      % (women_frauds * 100 / total_frauds, men_frauds * 100 / total_frauds))\n",
    "print('Women fraud transaction ratio: Frauds (%.2f%%)'\n",
    "      % (women_frauds * 100 / (total_women)))\n",
    "print('Men fraud transaction ratio: Frauds (%.2f%%)'\n",
    "      % (men_frauds * 100 / (total_men)))"
   ]
  },
  {
   "cell_type": "code",
   "execution_count": 207,
   "id": "2bd30dbd",
   "metadata": {},
   "outputs": [
    {
     "data": {
      "text/plain": [
       "60503"
      ]
     },
     "execution_count": 207,
     "metadata": {},
     "output_type": "execute_result"
    }
   ],
   "source": [
    "\n",
    "#plt.subplot(121)\n",
    "#combined_df['category'].value_counts().plot(kind = \"bar\")\n",
    "#plt.subplot(122)\n",
    "combined_df[combined_df.is_fraud == 0]['hour'].value_counts().sort_index()[]"
   ]
  },
  {
   "cell_type": "code",
   "execution_count": 140,
   "id": "1d681196",
   "metadata": {
    "scrolled": true
   },
   "outputs": [
    {
     "data": {
      "image/png": "[encoded data removed]",
      "text/plain": [
       "<Figure size 1656x576 with 3 Axes>"
      ]
     },
     "metadata": {
      "needs_background": "light"
     },
     "output_type": "display_data"
    }
   ],
   "source": [
    "plt.figure(figsize = (23,8))\n",
    "plt.subplot(131)\n",
    "filtered_df['month'].value_counts().plot(kind = 'bar')\n",
    "plt.subplot(132)\n",
    "filtered_df['week'].value_counts().plot(kind = 'bar')\n",
    "plt.subplot(133)\n",
    "\n",
    "plt.show()"
   ]
  }
 ],
 "metadata": {
  "kernelspec": {
   "display_name": "Python 3",
   "language": "python",
   "name": "python3"
  },
  "language_info": {
   "codemirror_mode": {
    "name": "ipython",
    "version": 3
   },
   "file_extension": ".py",
   "mimetype": "text/x-python",
   "name": "python",
   "nbconvert_exporter": "python",
   "pygments_lexer": "ipython3",
   "version": "3.8.8"
  }
 },
 "nbformat": 4,
 "nbformat_minor": 5
}
