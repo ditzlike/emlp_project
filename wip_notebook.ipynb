{
 "cells": [
  {
   "cell_type": "code",
   "execution_count": 215,
   "id": "a15c4afe",
   "metadata": {},
   "outputs": [],
   "source": [
    "import numpy as np \n",
    "import pandas as pd\n",
    "import matplotlib.pyplot as plt\n",
    "np.random.seed(1)"
   ]
  },
  {
   "cell_type": "markdown",
   "id": "29ff2521",
   "metadata": {},
   "source": [
    "Read in the data from the csv's"
   ]
  },
  {
   "cell_type": "code",
   "execution_count": 48,
   "id": "502c1267",
   "metadata": {},
   "outputs": [],
   "source": [
    "# Begrenzt die eingelesenen Daten aif 500 Zeilen (Geschwindigkeit)\n",
    "train_data = pd.read_csv('fraud/fraudTrain.csv', delimiter=',')\n",
    "train_data.dataframeName = 'fraudTrain.csv'\n",
    "test_data = pd.read_csv('fraud/fraudTest.csv', delimiter=',')\n",
    "test_data.dataframeName = 'fraudTest.csv'"
   ]
  },
  {
   "cell_type": "markdown",
   "id": "373b9beb",
   "metadata": {},
   "source": [
    "To get to know the data we're dealing with, we will first use the head function to look at its columns and its values. It consists of various columns specifying the transaction (date, credit card number, transaction number, etc.) and columns for the characteristical values of the merchant, such as name, job, gender and detailled geographical information. A binary value determines if the transaction was a fraud."
   ]
  },
  {
   "cell_type": "code",
   "execution_count": 251,
   "id": "9313f786",
   "metadata": {
    "scrolled": true
   },
   "outputs": [
    {
     "data": {
      "text/html": [
       "<div>\n",
       "<style scoped>\n",
       "    .dataframe tbody tr th:only-of-type {\n",
       "        vertical-align: middle;\n",
       "    }\n",
       "\n",
       "    .dataframe tbody tr th {\n",
       "        vertical-align: top;\n",
       "    }\n",
       "\n",
       "    .dataframe thead th {\n",
       "        text-align: right;\n",
       "    }\n",
       "</style>\n",
       "<table border=\"1\" class=\"dataframe\">\n",
       "  <thead>\n",
       "    <tr style=\"text-align: right;\">\n",
       "      <th></th>\n",
       "      <th>Unnamed: 0</th>\n",
       "      <th>trans_date_trans_time</th>\n",
       "      <th>cc_num</th>\n",
       "      <th>merchant</th>\n",
       "      <th>category</th>\n",
       "      <th>amt</th>\n",
       "      <th>first</th>\n",
       "      <th>last</th>\n",
       "      <th>gender</th>\n",
       "      <th>street</th>\n",
       "      <th>...</th>\n",
       "      <th>trans_num</th>\n",
       "      <th>unix_time</th>\n",
       "      <th>merch_lat</th>\n",
       "      <th>merch_long</th>\n",
       "      <th>is_fraud</th>\n",
       "      <th>week</th>\n",
       "      <th>hour</th>\n",
       "      <th>month</th>\n",
       "      <th>day</th>\n",
       "      <th>year</th>\n",
       "    </tr>\n",
       "  </thead>\n",
       "  <tbody>\n",
       "    <tr>\n",
       "      <th>0</th>\n",
       "      <td>0</td>\n",
       "      <td>2019-01-01 00:00:18</td>\n",
       "      <td>2703186189652095</td>\n",
       "      <td>fraud_Rippin, Kub and Mann</td>\n",
       "      <td>misc_net</td>\n",
       "      <td>4.97</td>\n",
       "      <td>Jennifer</td>\n",
       "      <td>Banks</td>\n",
       "      <td>F</td>\n",
       "      <td>561 Perry Cove</td>\n",
       "      <td>...</td>\n",
       "      <td>0b242abb623afc578575680df30655b9</td>\n",
       "      <td>1325376018</td>\n",
       "      <td>36.011293</td>\n",
       "      <td>-82.048315</td>\n",
       "      <td>0</td>\n",
       "      <td>1</td>\n",
       "      <td>0</td>\n",
       "      <td>1</td>\n",
       "      <td>Tuesday</td>\n",
       "      <td>2019</td>\n",
       "    </tr>\n",
       "    <tr>\n",
       "      <th>1</th>\n",
       "      <td>1</td>\n",
       "      <td>2019-01-01 00:00:44</td>\n",
       "      <td>630423337322</td>\n",
       "      <td>fraud_Heller, Gutmann and Zieme</td>\n",
       "      <td>grocery_pos</td>\n",
       "      <td>107.23</td>\n",
       "      <td>Stephanie</td>\n",
       "      <td>Gill</td>\n",
       "      <td>F</td>\n",
       "      <td>43039 Riley Greens Suite 393</td>\n",
       "      <td>...</td>\n",
       "      <td>1f76529f8574734946361c461b024d99</td>\n",
       "      <td>1325376044</td>\n",
       "      <td>49.159047</td>\n",
       "      <td>-118.186462</td>\n",
       "      <td>0</td>\n",
       "      <td>1</td>\n",
       "      <td>0</td>\n",
       "      <td>1</td>\n",
       "      <td>Tuesday</td>\n",
       "      <td>2019</td>\n",
       "    </tr>\n",
       "    <tr>\n",
       "      <th>2</th>\n",
       "      <td>2</td>\n",
       "      <td>2019-01-01 00:00:51</td>\n",
       "      <td>38859492057661</td>\n",
       "      <td>fraud_Lind-Buckridge</td>\n",
       "      <td>entertainment</td>\n",
       "      <td>220.11</td>\n",
       "      <td>Edward</td>\n",
       "      <td>Sanchez</td>\n",
       "      <td>M</td>\n",
       "      <td>594 White Dale Suite 530</td>\n",
       "      <td>...</td>\n",
       "      <td>a1a22d70485983eac12b5b88dad1cf95</td>\n",
       "      <td>1325376051</td>\n",
       "      <td>43.150704</td>\n",
       "      <td>-112.154481</td>\n",
       "      <td>0</td>\n",
       "      <td>1</td>\n",
       "      <td>0</td>\n",
       "      <td>1</td>\n",
       "      <td>Tuesday</td>\n",
       "      <td>2019</td>\n",
       "    </tr>\n",
       "    <tr>\n",
       "      <th>3</th>\n",
       "      <td>3</td>\n",
       "      <td>2019-01-01 00:01:16</td>\n",
       "      <td>3534093764340240</td>\n",
       "      <td>fraud_Kutch, Hermiston and Farrell</td>\n",
       "      <td>gas_transport</td>\n",
       "      <td>45.00</td>\n",
       "      <td>Jeremy</td>\n",
       "      <td>White</td>\n",
       "      <td>M</td>\n",
       "      <td>9443 Cynthia Court Apt. 038</td>\n",
       "      <td>...</td>\n",
       "      <td>6b849c168bdad6f867558c3793159a81</td>\n",
       "      <td>1325376076</td>\n",
       "      <td>47.034331</td>\n",
       "      <td>-112.561071</td>\n",
       "      <td>0</td>\n",
       "      <td>1</td>\n",
       "      <td>0</td>\n",
       "      <td>1</td>\n",
       "      <td>Tuesday</td>\n",
       "      <td>2019</td>\n",
       "    </tr>\n",
       "    <tr>\n",
       "      <th>4</th>\n",
       "      <td>4</td>\n",
       "      <td>2019-01-01 00:03:06</td>\n",
       "      <td>375534208663984</td>\n",
       "      <td>fraud_Keeling-Crist</td>\n",
       "      <td>misc_pos</td>\n",
       "      <td>41.96</td>\n",
       "      <td>Tyler</td>\n",
       "      <td>Garcia</td>\n",
       "      <td>M</td>\n",
       "      <td>408 Bradley Rest</td>\n",
       "      <td>...</td>\n",
       "      <td>a41d7549acf90789359a9aa5346dcb46</td>\n",
       "      <td>1325376186</td>\n",
       "      <td>38.674999</td>\n",
       "      <td>-78.632459</td>\n",
       "      <td>0</td>\n",
       "      <td>1</td>\n",
       "      <td>0</td>\n",
       "      <td>1</td>\n",
       "      <td>Tuesday</td>\n",
       "      <td>2019</td>\n",
       "    </tr>\n",
       "  </tbody>\n",
       "</table>\n",
       "<p>5 rows × 28 columns</p>\n",
       "</div>"
      ],
      "text/plain": [
       "   Unnamed: 0 trans_date_trans_time            cc_num  \\\n",
       "0           0   2019-01-01 00:00:18  2703186189652095   \n",
       "1           1   2019-01-01 00:00:44      630423337322   \n",
       "2           2   2019-01-01 00:00:51    38859492057661   \n",
       "3           3   2019-01-01 00:01:16  3534093764340240   \n",
       "4           4   2019-01-01 00:03:06   375534208663984   \n",
       "\n",
       "                             merchant       category     amt      first  \\\n",
       "0          fraud_Rippin, Kub and Mann       misc_net    4.97   Jennifer   \n",
       "1     fraud_Heller, Gutmann and Zieme    grocery_pos  107.23  Stephanie   \n",
       "2                fraud_Lind-Buckridge  entertainment  220.11     Edward   \n",
       "3  fraud_Kutch, Hermiston and Farrell  gas_transport   45.00     Jeremy   \n",
       "4                 fraud_Keeling-Crist       misc_pos   41.96      Tyler   \n",
       "\n",
       "      last gender                        street  ...  \\\n",
       "0    Banks      F                561 Perry Cove  ...   \n",
       "1     Gill      F  43039 Riley Greens Suite 393  ...   \n",
       "2  Sanchez      M      594 White Dale Suite 530  ...   \n",
       "3    White      M   9443 Cynthia Court Apt. 038  ...   \n",
       "4   Garcia      M              408 Bradley Rest  ...   \n",
       "\n",
       "                          trans_num   unix_time  merch_lat  merch_long  \\\n",
       "0  0b242abb623afc578575680df30655b9  1325376018  36.011293  -82.048315   \n",
       "1  1f76529f8574734946361c461b024d99  1325376044  49.159047 -118.186462   \n",
       "2  a1a22d70485983eac12b5b88dad1cf95  1325376051  43.150704 -112.154481   \n",
       "3  6b849c168bdad6f867558c3793159a81  1325376076  47.034331 -112.561071   \n",
       "4  a41d7549acf90789359a9aa5346dcb46  1325376186  38.674999  -78.632459   \n",
       "\n",
       "   is_fraud  week hour month      day  year  \n",
       "0         0     1    0     1  Tuesday  2019  \n",
       "1         0     1    0     1  Tuesday  2019  \n",
       "2         0     1    0     1  Tuesday  2019  \n",
       "3         0     1    0     1  Tuesday  2019  \n",
       "4         0     1    0     1  Tuesday  2019  \n",
       "\n",
       "[5 rows x 28 columns]"
      ]
     },
     "execution_count": 251,
     "metadata": {},
     "output_type": "execute_result"
    }
   ],
   "source": [
    "train_data.head()"
   ]
  },
  {
   "cell_type": "markdown",
   "id": "6b9021ac",
   "metadata": {},
   "source": [
    "We first need to explore the data to determine which method of classification to use. We will conduct this exploration on the entirety of our data, therefore concatenating our two dataframes. The info() function gives us information on the used data types."
   ]
  },
  {
   "cell_type": "code",
   "execution_count": 50,
   "id": "395835a0",
   "metadata": {},
   "outputs": [
    {
     "name": "stdout",
     "output_type": "stream",
     "text": [
      "<class 'pandas.core.frame.DataFrame'>\n",
      "Int64Index: 1852394 entries, 0 to 555718\n",
      "Data columns (total 23 columns):\n",
      " #   Column                 Dtype  \n",
      "---  ------                 -----  \n",
      " 0   Unnamed: 0             int64  \n",
      " 1   trans_date_trans_time  object \n",
      " 2   cc_num                 int64  \n",
      " 3   merchant               object \n",
      " 4   category               object \n",
      " 5   amt                    float64\n",
      " 6   first                  object \n",
      " 7   last                   object \n",
      " 8   gender                 object \n",
      " 9   street                 object \n",
      " 10  city                   object \n",
      " 11  state                  object \n",
      " 12  zip                    int64  \n",
      " 13  lat                    float64\n",
      " 14  long                   float64\n",
      " 15  city_pop               int64  \n",
      " 16  job                    object \n",
      " 17  dob                    object \n",
      " 18  trans_num              object \n",
      " 19  unix_time              int64  \n",
      " 20  merch_lat              float64\n",
      " 21  merch_long             float64\n",
      " 22  is_fraud               int64  \n",
      "dtypes: float64(5), int64(6), object(12)\n",
      "memory usage: 339.2+ MB\n"
     ]
    }
   ],
   "source": [
    "combined_df = pd.concat([train_data, test_data])\n",
    "combined_df.info()"
   ]
  },
  {
   "cell_type": "markdown",
   "id": "d8d9d391",
   "metadata": {},
   "source": [
    "Checking for null values reveals that we are working with sanitized data and no missing values anywhere."
   ]
  },
  {
   "cell_type": "code",
   "execution_count": 51,
   "id": "38912ab9",
   "metadata": {},
   "outputs": [
    {
     "data": {
      "text/plain": [
       "Unnamed: 0               0\n",
       "trans_date_trans_time    0\n",
       "cc_num                   0\n",
       "merchant                 0\n",
       "category                 0\n",
       "amt                      0\n",
       "first                    0\n",
       "last                     0\n",
       "gender                   0\n",
       "street                   0\n",
       "city                     0\n",
       "state                    0\n",
       "zip                      0\n",
       "lat                      0\n",
       "long                     0\n",
       "city_pop                 0\n",
       "job                      0\n",
       "dob                      0\n",
       "trans_num                0\n",
       "unix_time                0\n",
       "merch_lat                0\n",
       "merch_long               0\n",
       "is_fraud                 0\n",
       "dtype: int64"
      ]
     },
     "execution_count": 51,
     "metadata": {},
     "output_type": "execute_result"
    }
   ],
   "source": [
    "combined_df.isnull().sum()"
   ]
  },
  {
   "cell_type": "markdown",
   "id": "47b186b5",
   "metadata": {},
   "source": [
    "The shape command shows that we have 1852394 rows and 23 columns in both of our data sets combined."
   ]
  },
  {
   "cell_type": "code",
   "execution_count": 55,
   "id": "102bd8a9",
   "metadata": {},
   "outputs": [
    {
     "data": {
      "text/plain": [
       "(1852394, 25)"
      ]
     },
     "execution_count": 55,
     "metadata": {},
     "output_type": "execute_result"
    }
   ],
   "source": [
    "combined_df.shape"
   ]
  },
  {
   "cell_type": "markdown",
   "id": "fa1f163d",
   "metadata": {},
   "source": [
    "We will first start by wrangling the data to normalise information such as dates. We can also expand the data by extracting additional time information such as week and hour."
   ]
  },
  {
   "cell_type": "code",
   "execution_count": 250,
   "id": "fdc34465",
   "metadata": {},
   "outputs": [],
   "source": [
    "train_data['trans_date_trans_time'] = pd.to_datetime(train_data['trans_date_trans_time'])\n",
    "test_data['trans_date_trans_time'] = pd.to_datetime(test_data['trans_date_trans_time'])\n",
    "\n",
    "train_data['year'] = train_data['trans_date_trans_time'].dt.year\n",
    "test_data['year'] = test_data['trans_date_trans_time'].dt.year\n",
    "\n",
    "train_data['month'] = train_data['trans_date_trans_time'].dt.month\n",
    "test_data['month'] = test_data['trans_date_trans_time'].dt.month\n",
    "\n",
    "train_data['week'] = train_data['trans_date_trans_time'].dt.isocalendar().week\n",
    "test_data['week'] = test_data['trans_date_trans_time'].dt.isocalendar().week\n",
    "\n",
    "train_data['day'] = train_data['trans_date_trans_time'].dt.day_name()\n",
    "test_data['day'] = test_data['trans_date_trans_time'].dt.day_name()\n",
    "\n",
    "train_data['hour'] = train_data['trans_date_trans_time'].dt.hour\n",
    "test_data['hour'] = test_data['trans_date_trans_time'].dt.hour\n",
    "\n",
    "combined_df = pd.concat([train_data, test_data])"
   ]
  },
  {
   "cell_type": "markdown",
   "id": "a7815004",
   "metadata": {},
   "source": [
    "By determining the percentage of fraud transactions, our dependent variable for classification, we can see that only 0,5% of all transactions are frauds in all of our data sets. This is a highly imbalanced dependent variable which can result in an inaccuracy of our training algorithm. A classification with an imbalanced dependent variable will favour the majority class, in our case \"no fraud\", since it always strives to achieve the best possible accuracy."
   ]
  },
  {
   "cell_type": "code",
   "execution_count": 57,
   "id": "35057118",
   "metadata": {},
   "outputs": [
    {
     "data": {
      "text/plain": [
       "0    99.478999\n",
       "1     0.521001\n",
       "Name: is_fraud, dtype: float64"
      ]
     },
     "execution_count": 57,
     "metadata": {},
     "output_type": "execute_result"
    }
   ],
   "source": [
    "combined_df['is_fraud'].value_counts(normalize=True).mul(100)"
   ]
  },
  {
   "cell_type": "markdown",
   "id": "5a11ff83",
   "metadata": {},
   "source": [
    "The same command for our train data reveals that our it also has a highly imbalanced dependent variable and therefore requires balancing. We will use oversampling, since it does not dispose of any potentially useful data as undersampling does by discarding data of the majority dependent variable."
   ]
  },
  {
   "cell_type": "code",
   "execution_count": 61,
   "id": "86834712",
   "metadata": {},
   "outputs": [
    {
     "data": {
      "text/plain": [
       "0    99.421135\n",
       "1     0.578865\n",
       "Name: is_fraud, dtype: float64"
      ]
     },
     "execution_count": 61,
     "metadata": {},
     "output_type": "execute_result"
    }
   ],
   "source": [
    "train_data['is_fraud'].value_counts(normalize=True).mul(100)"
   ]
  },
  {
   "cell_type": "markdown",
   "id": "4159bb90",
   "metadata": {},
   "source": [
    "In order to characterise fraud, we will filter for all occurences of fraud and plot the data based on various variables. The following plots showcasing frauds alone wield these results:\n",
    "- Slightly more frauds were done by women than by men, though it is almost even\n",
    "- grocery_pos and shopping_net are the highest fraud categories with almost twice as much as the next one, misc_net\n",
    "- Most fraud takes place in very late hours leading up to midnight and the hours directly after"
   ]
  },
  {
   "cell_type": "code",
   "execution_count": 262,
   "id": "4fe94188",
   "metadata": {
    "scrolled": false
   },
   "outputs": [
    {
     "data": {
      "image/png": "[encoded data removed]",
      "text/plain": [
       "<Figure size 1224x360 with 3 Axes>"
      ]
     },
     "metadata": {
      "needs_background": "light"
     },
     "output_type": "display_data"
    }
   ],
   "source": [
    "fraud_df = combined_df[combined_df.is_fraud == 1]\n",
    "# TODO: filter this or make more analysis\n",
    "fraud_df = fraud_df[['gender', 'category', 'merchant', 'city', 'state', 'job', 'week', 'hour', 'month', 'year', 'trans_date_trans_time']]\n",
    "#fraud_df.groupby('category').count().plot(kind = 'bar', legend = False)\n",
    "plt.figure(figsize = (17,5))\n",
    "plt.subplot(131)\n",
    "fraud_df['gender'].value_counts().plot(kind = 'bar')\n",
    "plt.subplot(132)\n",
    "fraud_df['category'].value_counts().plot(kind = 'bar')\n",
    "plt.subplot(133)\n",
    "fraud_df['hour'].value_counts().sort_index().plot(kind = 'bar')\n",
    "#fraud_df['state'].value_counts().plot(kind = 'bar')\n",
    "plt.show()"
   ]
  },
  {
   "cell_type": "markdown",
   "id": "be86f8d3",
   "metadata": {},
   "source": [
    "This is interesting, but we need to take a closer look at the data in total to further analyse these trends. The following code analyses fraud in relation to non-fraud cases and gender. Looking at the fraud cases alone can be misleading, which the following code highlights.\n",
    "\n",
    "Although women have slightly more fraud cases of around 1.5%, women also have 10% more transactions (which are roughly also the non-frauds transactions, since the fraud/non-fraud ratio is so slim) in total, meaning women are buying more. With a higher transaction volume of around 10%, but an almost even fraud-ratio between men and women, we can see that it is actually men who are more likely to commit fraud by only around 0.1% when put into relation. This is a very small difference percentage, so the total ratio of fraud is roughly the same, but this debunks the previous intuition that women are more likely to commit fraud. It is important to showcase these comparisons to draw correct conclusions from our data.\n"
   ]
  },
  {
   "cell_type": "code",
   "execution_count": 265,
   "id": "f01bb34b",
   "metadata": {},
   "outputs": [
    {
     "name": "stdout",
     "output_type": "stream",
     "text": [
      "Total transaction ratio: Women (54.78%), Men (45.22%)\n",
      "Total non-fraud transaction ratio: Women (54.80%), Men (45.20%)\n",
      "Total fraud transaction ratio: Women (50.76%), Men (49.24%)\n",
      "Women fraud transaction ratio: Frauds (0.48%)\n",
      "Men fraud transaction ratio: Frauds (0.57%)\n"
     ]
    }
   ],
   "source": [
    "counts_df = combined_df[['gender', 'is_fraud']].value_counts()\n",
    "women_frauds = counts_df[('F', 1)]\n",
    "men_frauds = counts_df[('M', 1)]\n",
    "\n",
    "women_non_frauds = counts_df[('F', 0)]\n",
    "men_non_frauds = counts_df[('M', 0)]\n",
    "total_frauds = women_frauds + men_frauds\n",
    "total_non_frauds = women_non_frauds + men_non_frauds\n",
    "total_women = women_frauds + women_non_frauds\n",
    "total_men = men_frauds + men_non_frauds\n",
    "print('Total transaction ratio: Women (%.2f%%), Men (%.2f%%)'\n",
    "      % (total_women * 100 / (total_frauds + total_non_frauds), total_men * 100 / (total_frauds + total_non_frauds)))\n",
    "print('Total non-fraud transaction ratio: Women (%.2f%%), Men (%.2f%%)'\n",
    "      % (women_non_frauds * 100 / total_non_frauds, men_non_frauds * 100 / total_non_frauds))\n",
    "print('Total fraud transaction ratio: Women (%.2f%%), Men (%.2f%%)'\n",
    "      % (women_frauds * 100 / total_frauds, men_frauds * 100 / total_frauds))\n",
    "print('Women fraud transaction ratio: Frauds (%.2f%%)'\n",
    "      % (women_frauds * 100 / (total_women)))\n",
    "print('Men fraud transaction ratio: Frauds (%.2f%%)'\n",
    "      % (men_frauds * 100 / (total_men)))"
   ]
  },
  {
   "cell_type": "code",
   "execution_count": 269,
   "id": "e0549eff",
   "metadata": {},
   "outputs": [],
   "source": [
    "def plot_double_bar(fraud_df, non_fraud_df, category, b_sort = False):\n",
    "    non_fraud = non_fraud_df[category].value_counts().sort_index()\n",
    "    fraud = fraud_df[category].value_counts().sort_index()\n",
    "    if b_sort:\n",
    "        non_fraud = non_fraud.sort_index()\n",
    "        fraud = fraud.sort_index()\n",
    "    index = list(range(0, len(fraud)))\n",
    "    ax = pd.DataFrame({'fraud_cases': fraud, 'non_fraud_cases': non_fraud}, index=index).plot(kind = \"bar\", figsize = (15, 8))\n",
    "    ax.set_yscale('log')"
   ]
  },
  {
   "cell_type": "markdown",
   "id": "e7e68c2e",
   "metadata": {},
   "source": [
    "The following plot with a logarithmic y-axis shows us the fraud and non-fraud cases per hour. We can see that all hours from 0-11 and from 12-23 have roughly the same amount of non-fraud cases. It therefore shows a rather balanced transaction behaviour with less cases in the first half of the day and more in the latter. The fraud data still shows the significant spikes that we also determined in the plots from before.\n",
    "\n",
    "But it is very interesting in this case that the hours from 0-4 spike in fraud cases although these hours belong to the less transaction active hours overall. The hours 22 and 23 also show their strong spike, although these hours still belong to the higher transaction volume hours.\n",
    "\n",
    "This direct comparison to non-fraud cases makes these hours even more noticeable, since they still stand out as opposed to the gender comparison."
   ]
  },
  {
   "cell_type": "code",
   "execution_count": 267,
   "id": "5c664cc2",
   "metadata": {},
   "outputs": [
    {
     "data": {
      "image/png": "[encoded data removed]",
      "text/plain": [
       "<Figure size 1080x576 with 1 Axes>"
      ]
     },
     "metadata": {
      "needs_background": "light"
     },
     "output_type": "display_data"
    }
   ],
   "source": [
    "non_fraud_df = combined_df[combined_df.is_fraud == 0]\n",
    "plot_double_bar(fraud_df, non_fraud_df, 'hour', b_sort = True)"
   ]
  },
  {
   "cell_type": "code",
   "execution_count": null,
   "id": "9dc52fe8",
   "metadata": {},
   "outputs": [],
   "source": [
    "non_fraud = non_fraud_df['hour'].value_counts().sort_index()\n",
    "fraud = fraud_df['hour'].value_counts().sort_index()\n",
    "index = list(range(0, 24))\n",
    "ax = pd.DataFrame({'fraud_cases': fraud, 'non_fraud_cases': non_fraud}, index=index).plot(kind = \"bar\", figsize = (15, 8))\n",
    "ax.set_yscale('log')"
   ]
  },
  {
   "cell_type": "code",
   "execution_count": 261,
   "id": "ac2e5310",
   "metadata": {
    "scrolled": true
   },
   "outputs": [
    {
     "data": {
      "image/png": "[encoded data removed]",
      "text/plain": [
       "<Figure size 1656x576 with 3 Axes>"
      ]
     },
     "metadata": {
      "needs_background": "light"
     },
     "output_type": "display_data"
    }
   ],
   "source": [
    "plt.figure(figsize = (23,8))\n",
    "plt.subplot(131)\n",
    "fraud_df['month'].value_counts().sort_index().plot(kind = 'bar')\n",
    "plt.subplot(132)\n",
    "fraud_df['week'].value_counts().sort_index().plot(kind = 'bar')\n",
    "plt.subplot(133)\n",
    "fraud_df['year'].value_counts().sort_index().plot(kind = 'bar')\n",
    "\n",
    "plt.show()"
   ]
  },
  {
   "cell_type": "code",
   "execution_count": null,
   "id": "6b0fd39b",
   "metadata": {},
   "outputs": [],
   "source": [
    "fraud_df.head()"
   ]
  }
 ],
 "metadata": {
  "kernelspec": {
   "display_name": "Python 3",
   "language": "python",
   "name": "python3"
  },
  "language_info": {
   "codemirror_mode": {
    "name": "ipython",
    "version": 3
   },
   "file_extension": ".py",
   "mimetype": "text/x-python",
   "name": "python",
   "nbconvert_exporter": "python",
   "pygments_lexer": "ipython3",
   "version": "3.8.8"
  }
 },
 "nbformat": 4,
 "nbformat_minor": 5
}
